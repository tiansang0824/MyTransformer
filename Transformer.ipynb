{
 "cells": [
  {
   "cell_type": "code",
   "id": "initial_id",
   "metadata": {
    "collapsed": true,
    "ExecuteTime": {
     "end_time": "2024-08-03T12:07:25.819493Z",
     "start_time": "2024-08-03T12:07:23.459935Z"
    }
   },
   "source": [
    "import torch\n",
    "from torch import nn\n",
    "import torch.nn.functional as F\n",
    "import math\n"
   ],
   "outputs": [],
   "execution_count": 1
  },
  {
   "metadata": {
    "ExecuteTime": {
     "end_time": "2024-08-03T12:07:25.881686Z",
     "start_time": "2024-08-03T12:07:25.823158Z"
    }
   },
   "cell_type": "code",
   "source": [
    "# 测试一下cuda\n",
    "print(f'cuda status: {torch.cuda.is_available()}')\n",
    "# 随机生成Tensor数组,测试函数\n",
    "random_torch = torch.rand(4, 4)\n",
    "print(random_torch)\n",
    "print(type(random_torch[0, 0]))"
   ],
   "id": "920f10ab9c951b36",
   "outputs": [
    {
     "name": "stdout",
     "output_type": "stream",
     "text": [
      "cuda status: True\n",
      "tensor([[0.6543, 0.8391, 0.1711, 0.2626],\n",
      "        [0.1114, 0.3041, 0.8385, 0.2038],\n",
      "        [0.1495, 0.4800, 0.2191, 0.3919],\n",
      "        [0.4644, 0.7088, 0.6688, 0.8636]])\n",
      "<class 'torch.Tensor'>\n"
     ]
    }
   ],
   "execution_count": 2
  },
  {
   "metadata": {},
   "cell_type": "markdown",
   "source": "# 开始编码embedding\n",
   "id": "4840e0d35e1ebe29"
  },
  {
   "metadata": {
    "ExecuteTime": {
     "end_time": "2024-08-03T12:23:38.940930Z",
     "start_time": "2024-08-03T12:23:38.932821Z"
    }
   },
   "cell_type": "code",
   "source": [
    "from torch import Tensor\n",
    "\n",
    "\n",
    "# 将输入的词汇表转换成指定维度的embedding\n",
    "\n",
    "# token embedding\n",
    "class TokenEmbedding(nn.Embedding):\n",
    "    def __init__(self, vocab_size, d_model):\n",
    "        \"\"\"\n",
    "        构造器\n",
    "        :param vocab_size: 词汇表大小 \n",
    "        :param d_model: 维度\n",
    "        \"\"\"\n",
    "        super(TokenEmbedding, self).__init__(vocab_size, d_model, padding_idx=1)\n"
   ],
   "id": "cc356820c1811658",
   "outputs": [],
   "execution_count": 4
  },
  {
   "metadata": {},
   "cell_type": "code",
   "outputs": [],
   "execution_count": null,
   "source": [
    "class PositionalEmbedding(nn.Module):\n",
    "    def __init__(self, d_model, max_len, device):\n",
    "        \"\"\"\n",
    "        构造器\n",
    "        :param d_model: 维度\n",
    "        :param max_len: 最大长度\n",
    "        \"\"\"\n",
    "        super(PositionalEmbedding, self).__init__()\n",
    "        self.encoding = torch.zeros(max_len, d_model, device=device)\n",
    "        self.encoding.requires_grad = False\n",
    "        pos = torch.arange(0,max_len,device=device)\n",
    "        pos=pos.float().unsqueeze(dim=2)\n",
    "        "
   ],
   "id": "381cd7a13c07da32"
  }
 ],
 "metadata": {
  "kernelspec": {
   "display_name": "Python 3",
   "language": "python",
   "name": "python3"
  },
  "language_info": {
   "codemirror_mode": {
    "name": "ipython",
    "version": 2
   },
   "file_extension": ".py",
   "mimetype": "text/x-python",
   "name": "python",
   "nbconvert_exporter": "python",
   "pygments_lexer": "ipython2",
   "version": "2.7.6"
  }
 },
 "nbformat": 4,
 "nbformat_minor": 5
}
